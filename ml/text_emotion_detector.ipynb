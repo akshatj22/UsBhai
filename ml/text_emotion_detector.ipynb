{
 "cells": [
  {
   "cell_type": "code",
   "execution_count": 1,
   "id": "7a665880",
   "metadata": {},
   "outputs": [],
   "source": [
    "import numpy as np\n",
    "import pandas as pd\n",
    "import matplotlib.pyplot as plt\n",
    "import seaborn as sns\n",
    "import tensorflow as tf\n",
    "from tensorflow import keras"
   ]
  },
  {
   "cell_type": "code",
   "execution_count": 2,
   "id": "6ea5c6d0",
   "metadata": {},
   "outputs": [
    {
     "data": {
      "text/html": [
       "<div>\n",
       "<style scoped>\n",
       "    .dataframe tbody tr th:only-of-type {\n",
       "        vertical-align: middle;\n",
       "    }\n",
       "\n",
       "    .dataframe tbody tr th {\n",
       "        vertical-align: top;\n",
       "    }\n",
       "\n",
       "    .dataframe thead th {\n",
       "        text-align: right;\n",
       "    }\n",
       "</style>\n",
       "<table border=\"1\" class=\"dataframe\">\n",
       "  <thead>\n",
       "    <tr style=\"text-align: right;\">\n",
       "      <th></th>\n",
       "      <th>clean_text</th>\n",
       "      <th>category</th>\n",
       "    </tr>\n",
       "  </thead>\n",
       "  <tbody>\n",
       "    <tr>\n",
       "      <th>0</th>\n",
       "      <td>when modi promised “minimum government maximum...</td>\n",
       "      <td>-1.0</td>\n",
       "    </tr>\n",
       "    <tr>\n",
       "      <th>1</th>\n",
       "      <td>talk all the nonsense and continue all the dra...</td>\n",
       "      <td>0.0</td>\n",
       "    </tr>\n",
       "    <tr>\n",
       "      <th>2</th>\n",
       "      <td>what did just say vote for modi  welcome bjp t...</td>\n",
       "      <td>1.0</td>\n",
       "    </tr>\n",
       "    <tr>\n",
       "      <th>3</th>\n",
       "      <td>asking his supporters prefix chowkidar their n...</td>\n",
       "      <td>1.0</td>\n",
       "    </tr>\n",
       "    <tr>\n",
       "      <th>4</th>\n",
       "      <td>answer who among these the most powerful world...</td>\n",
       "      <td>1.0</td>\n",
       "    </tr>\n",
       "  </tbody>\n",
       "</table>\n",
       "</div>"
      ],
      "text/plain": [
       "                                          clean_text  category\n",
       "0  when modi promised “minimum government maximum...      -1.0\n",
       "1  talk all the nonsense and continue all the dra...       0.0\n",
       "2  what did just say vote for modi  welcome bjp t...       1.0\n",
       "3  asking his supporters prefix chowkidar their n...       1.0\n",
       "4  answer who among these the most powerful world...       1.0"
      ]
     },
     "execution_count": 2,
     "metadata": {},
     "output_type": "execute_result"
    }
   ],
   "source": [
    "data = pd.read_csv(\"lstm.csv\")\n",
    "data.head()"
   ]
  },
  {
   "cell_type": "code",
   "execution_count": 3,
   "id": "22440dc8",
   "metadata": {},
   "outputs": [
    {
     "data": {
      "text/plain": [
       "clean_text    4\n",
       "category      7\n",
       "dtype: int64"
      ]
     },
     "execution_count": 3,
     "metadata": {},
     "output_type": "execute_result"
    }
   ],
   "source": [
    "data.isnull().sum()"
   ]
  },
  {
   "cell_type": "code",
   "execution_count": 4,
   "id": "a4cd8942",
   "metadata": {},
   "outputs": [
    {
     "data": {
      "text/plain": [
       "(162980, 2)"
      ]
     },
     "execution_count": 4,
     "metadata": {},
     "output_type": "execute_result"
    }
   ],
   "source": [
    "data.shape"
   ]
  },
  {
   "cell_type": "code",
   "execution_count": 8,
   "id": "5201d099",
   "metadata": {},
   "outputs": [],
   "source": [
    "data = data.dropna()"
   ]
  },
  {
   "cell_type": "code",
   "execution_count": 11,
   "id": "e7ce13c8",
   "metadata": {},
   "outputs": [],
   "source": [
    "data = data.reset_index()"
   ]
  },
  {
   "cell_type": "code",
   "execution_count": 12,
   "id": "e4e2a907",
   "metadata": {},
   "outputs": [
    {
     "data": {
      "text/html": [
       "<div>\n",
       "<style scoped>\n",
       "    .dataframe tbody tr th:only-of-type {\n",
       "        vertical-align: middle;\n",
       "    }\n",
       "\n",
       "    .dataframe tbody tr th {\n",
       "        vertical-align: top;\n",
       "    }\n",
       "\n",
       "    .dataframe thead th {\n",
       "        text-align: right;\n",
       "    }\n",
       "</style>\n",
       "<table border=\"1\" class=\"dataframe\">\n",
       "  <thead>\n",
       "    <tr style=\"text-align: right;\">\n",
       "      <th></th>\n",
       "      <th>index</th>\n",
       "      <th>clean_text</th>\n",
       "      <th>category</th>\n",
       "    </tr>\n",
       "  </thead>\n",
       "  <tbody>\n",
       "    <tr>\n",
       "      <th>0</th>\n",
       "      <td>0</td>\n",
       "      <td>the world sees new india huge improvements int...</td>\n",
       "      <td>1.0</td>\n",
       "    </tr>\n",
       "    <tr>\n",
       "      <th>1</th>\n",
       "      <td>1</td>\n",
       "      <td>pappu can announce bribe 72k but modi being ca...</td>\n",
       "      <td>-1.0</td>\n",
       "    </tr>\n",
       "    <tr>\n",
       "      <th>2</th>\n",
       "      <td>2</td>\n",
       "      <td>only objective oppose modi and criticize whate...</td>\n",
       "      <td>1.0</td>\n",
       "    </tr>\n",
       "    <tr>\n",
       "      <th>3</th>\n",
       "      <td>3</td>\n",
       "      <td>dont want for higher and good education still ...</td>\n",
       "      <td>1.0</td>\n",
       "    </tr>\n",
       "    <tr>\n",
       "      <th>4</th>\n",
       "      <td>4</td>\n",
       "      <td>jada nacre nahi definitely modi should take al...</td>\n",
       "      <td>0.0</td>\n",
       "    </tr>\n",
       "    <tr>\n",
       "      <th>...</th>\n",
       "      <td>...</td>\n",
       "      <td>...</td>\n",
       "      <td>...</td>\n",
       "    </tr>\n",
       "    <tr>\n",
       "      <th>162964</th>\n",
       "      <td>162964</td>\n",
       "      <td>now chamchas and antimodi gang will start atta...</td>\n",
       "      <td>0.0</td>\n",
       "    </tr>\n",
       "    <tr>\n",
       "      <th>162965</th>\n",
       "      <td>162965</td>\n",
       "      <td>terrorists pakistan want lose opposition win m...</td>\n",
       "      <td>1.0</td>\n",
       "    </tr>\n",
       "    <tr>\n",
       "      <th>162966</th>\n",
       "      <td>162966</td>\n",
       "      <td>just tell one thing modi let mallya get out th...</td>\n",
       "      <td>1.0</td>\n",
       "    </tr>\n",
       "    <tr>\n",
       "      <th>162967</th>\n",
       "      <td>162967</td>\n",
       "      <td>body knows them only motto life famous opposin...</td>\n",
       "      <td>1.0</td>\n",
       "    </tr>\n",
       "    <tr>\n",
       "      <th>162968</th>\n",
       "      <td>162968</td>\n",
       "      <td>days ago she was unbiased journalist who alway...</td>\n",
       "      <td>-1.0</td>\n",
       "    </tr>\n",
       "  </tbody>\n",
       "</table>\n",
       "<p>162969 rows × 3 columns</p>\n",
       "</div>"
      ],
      "text/plain": [
       "         index                                         clean_text  category\n",
       "0            0  the world sees new india huge improvements int...       1.0\n",
       "1            1  pappu can announce bribe 72k but modi being ca...      -1.0\n",
       "2            2  only objective oppose modi and criticize whate...       1.0\n",
       "3            3  dont want for higher and good education still ...       1.0\n",
       "4            4  jada nacre nahi definitely modi should take al...       0.0\n",
       "...        ...                                                ...       ...\n",
       "162964  162964  now chamchas and antimodi gang will start atta...       0.0\n",
       "162965  162965  terrorists pakistan want lose opposition win m...       1.0\n",
       "162966  162966  just tell one thing modi let mallya get out th...       1.0\n",
       "162967  162967  body knows them only motto life famous opposin...       1.0\n",
       "162968  162968  days ago she was unbiased journalist who alway...      -1.0\n",
       "\n",
       "[162969 rows x 3 columns]"
      ]
     },
     "execution_count": 12,
     "metadata": {},
     "output_type": "execute_result"
    }
   ],
   "source": [
    "data"
   ]
  },
  {
   "cell_type": "code",
   "execution_count": 13,
   "id": "19b5457a",
   "metadata": {},
   "outputs": [
    {
     "data": {
      "text/html": [
       "<div>\n",
       "<style scoped>\n",
       "    .dataframe tbody tr th:only-of-type {\n",
       "        vertical-align: middle;\n",
       "    }\n",
       "\n",
       "    .dataframe tbody tr th {\n",
       "        vertical-align: top;\n",
       "    }\n",
       "\n",
       "    .dataframe thead th {\n",
       "        text-align: right;\n",
       "    }\n",
       "</style>\n",
       "<table border=\"1\" class=\"dataframe\">\n",
       "  <thead>\n",
       "    <tr style=\"text-align: right;\">\n",
       "      <th></th>\n",
       "      <th>negative</th>\n",
       "      <th>neutral</th>\n",
       "      <th>positive</th>\n",
       "    </tr>\n",
       "  </thead>\n",
       "  <tbody>\n",
       "    <tr>\n",
       "      <th>0</th>\n",
       "      <td>0</td>\n",
       "      <td>0</td>\n",
       "      <td>1</td>\n",
       "    </tr>\n",
       "    <tr>\n",
       "      <th>1</th>\n",
       "      <td>1</td>\n",
       "      <td>0</td>\n",
       "      <td>0</td>\n",
       "    </tr>\n",
       "    <tr>\n",
       "      <th>2</th>\n",
       "      <td>0</td>\n",
       "      <td>0</td>\n",
       "      <td>1</td>\n",
       "    </tr>\n",
       "    <tr>\n",
       "      <th>3</th>\n",
       "      <td>0</td>\n",
       "      <td>0</td>\n",
       "      <td>1</td>\n",
       "    </tr>\n",
       "    <tr>\n",
       "      <th>4</th>\n",
       "      <td>0</td>\n",
       "      <td>1</td>\n",
       "      <td>0</td>\n",
       "    </tr>\n",
       "  </tbody>\n",
       "</table>\n",
       "</div>"
      ],
      "text/plain": [
       "   negative  neutral  positive\n",
       "0         0        0         1\n",
       "1         1        0         0\n",
       "2         0        0         1\n",
       "3         0        0         1\n",
       "4         0        1         0"
      ]
     },
     "execution_count": 13,
     "metadata": {},
     "output_type": "execute_result"
    }
   ],
   "source": [
    "labels = pd.get_dummies(data.category)\n",
    "labels.columns = [\"negative\", \"neutral\", \"positive\"]\n",
    "labels.head(5)"
   ]
  },
  {
   "cell_type": "code",
   "execution_count": 14,
   "id": "ef6a2495",
   "metadata": {},
   "outputs": [],
   "source": [
    "data = data.drop(columns = ['category'])"
   ]
  },
  {
   "cell_type": "code",
   "execution_count": 16,
   "id": "5cc60579",
   "metadata": {},
   "outputs": [],
   "source": [
    "from keras.preprocessing.text import Tokenizer\n",
    "from keras.utils import pad_sequences\n",
    "tokenizer = Tokenizer(num_words = 8150, lower = True, split = \" \", oov_token = \"~\")\n",
    "tokenizer.fit_on_texts(data[\"clean_text\"])"
   ]
  },
  {
   "cell_type": "code",
   "execution_count": 17,
   "id": "98fdefd1",
   "metadata": {},
   "outputs": [
    {
     "data": {
      "text/plain": [
       "113679"
      ]
     },
     "execution_count": 17,
     "metadata": {},
     "output_type": "execute_result"
    }
   ],
   "source": [
    "word_index = tokenizer.word_index\n",
    "len(word_index)"
   ]
  },
  {
   "cell_type": "code",
   "execution_count": 18,
   "id": "a312f14e",
   "metadata": {},
   "outputs": [],
   "source": [
    "data[\"clean_text\"] = tokenizer.texts_to_sequences(data[\"clean_text\"])"
   ]
  },
  {
   "cell_type": "code",
   "execution_count": 19,
   "id": "882c3523",
   "metadata": {},
   "outputs": [
    {
     "data": {
      "text/html": [
       "<div>\n",
       "<style scoped>\n",
       "    .dataframe tbody tr th:only-of-type {\n",
       "        vertical-align: middle;\n",
       "    }\n",
       "\n",
       "    .dataframe tbody tr th {\n",
       "        vertical-align: top;\n",
       "    }\n",
       "\n",
       "    .dataframe thead th {\n",
       "        text-align: right;\n",
       "    }\n",
       "</style>\n",
       "<table border=\"1\" class=\"dataframe\">\n",
       "  <thead>\n",
       "    <tr style=\"text-align: right;\">\n",
       "      <th></th>\n",
       "      <th>index</th>\n",
       "      <th>clean_text</th>\n",
       "    </tr>\n",
       "  </thead>\n",
       "  <tbody>\n",
       "    <tr>\n",
       "      <th>0</th>\n",
       "      <td>0</td>\n",
       "      <td>[3, 128, 2763, 117, 10, 476, 1, 691, 1, 87, 1,...</td>\n",
       "    </tr>\n",
       "    <tr>\n",
       "      <th>1</th>\n",
       "      <td>1</td>\n",
       "      <td>[240, 32, 565, 2332, 1499, 16, 2, 138, 163, 38...</td>\n",
       "    </tr>\n",
       "    <tr>\n",
       "      <th>2</th>\n",
       "      <td>2</td>\n",
       "      <td>[29, 3112, 1168, 2, 4, 1313, 581, 156, 305, 28...</td>\n",
       "    </tr>\n",
       "    <tr>\n",
       "      <th>3</th>\n",
       "      <td>3</td>\n",
       "      <td>[40, 72, 5, 1592, 4, 78, 616, 149, 72, 67, 206...</td>\n",
       "    </tr>\n",
       "    <tr>\n",
       "      <th>4</th>\n",
       "      <td>4</td>\n",
       "      <td>[1, 1, 472, 685, 2, 51, 101, 17, 3, 91]</td>\n",
       "    </tr>\n",
       "  </tbody>\n",
       "</table>\n",
       "</div>"
      ],
      "text/plain": [
       "   index                                         clean_text\n",
       "0      0  [3, 128, 2763, 117, 10, 476, 1, 691, 1, 87, 1,...\n",
       "1      1  [240, 32, 565, 2332, 1499, 16, 2, 138, 163, 38...\n",
       "2      2  [29, 3112, 1168, 2, 4, 1313, 581, 156, 305, 28...\n",
       "3      3  [40, 72, 5, 1592, 4, 78, 616, 149, 72, 67, 206...\n",
       "4      4            [1, 1, 472, 685, 2, 51, 101, 17, 3, 91]"
      ]
     },
     "execution_count": 19,
     "metadata": {},
     "output_type": "execute_result"
    }
   ],
   "source": [
    "data.head()"
   ]
  },
  {
   "cell_type": "code",
   "execution_count": 20,
   "id": "07aceea2",
   "metadata": {},
   "outputs": [],
   "source": [
    "tweets = pad_sequences(data[\"clean_text\"]) "
   ]
  },
  {
   "cell_type": "code",
   "execution_count": 21,
   "id": "c1b567ac",
   "metadata": {},
   "outputs": [
    {
     "data": {
      "text/plain": [
       "(162969, 52)"
      ]
     },
     "execution_count": 21,
     "metadata": {},
     "output_type": "execute_result"
    }
   ],
   "source": [
    "tweets.shape"
   ]
  },
  {
   "cell_type": "code",
   "execution_count": 22,
   "id": "36489c5b",
   "metadata": {},
   "outputs": [],
   "source": [
    "from sklearn.model_selection import train_test_split\n",
    "X_train, X_test, y_train, y_test = train_test_split(tweets, labels, test_size = 0.15)"
   ]
  },
  {
   "cell_type": "code",
   "execution_count": 24,
   "id": "a13d0e91",
   "metadata": {},
   "outputs": [
    {
     "name": "stdout",
     "output_type": "stream",
     "text": [
      "Model: \"sequential_1\"\n",
      "_________________________________________________________________\n",
      " Layer (type)                Output Shape              Param #   \n",
      "=================================================================\n",
      " embedding_1 (Embedding)     (None, None, 32)          260800    \n",
      "                                                                 \n",
      " lstm (LSTM)                 (None, 128)               82432     \n",
      "                                                                 \n",
      " dense_2 (Dense)             (None, 128)               16512     \n",
      "                                                                 \n",
      " dropout_1 (Dropout)         (None, 128)               0         \n",
      "                                                                 \n",
      " dense_3 (Dense)             (None, 3)                 387       \n",
      "                                                                 \n",
      "=================================================================\n",
      "Total params: 360,131\n",
      "Trainable params: 360,131\n",
      "Non-trainable params: 0\n",
      "_________________________________________________________________\n"
     ]
    }
   ],
   "source": [
    "model = keras.models.Sequential([\n",
    "    keras.layers.Embedding(input_dim = 8150, output_dim = 32),\n",
    "    keras.layers.LSTM(128),\n",
    "    keras.layers.Dense(128, activation = \"leaky_relu\", kernel_initializer = \"he_normal\", kernel_regularizer = \"l1\"),\n",
    "    keras.layers.Dropout(0.35),\n",
    "    keras.layers.Dense(3, activation = \"softmax\", kernel_initializer = \"glorot_normal\")\n",
    "])\n",
    "model.summary()\n"
   ]
  },
  {
   "cell_type": "code",
   "execution_count": 25,
   "id": "24b6d778",
   "metadata": {},
   "outputs": [],
   "source": [
    "model.compile(optimizer = 'adam',loss = 'categorical_crossentropy',metrics = ['accuracy'])"
   ]
  },
  {
   "cell_type": "code",
   "execution_count": 26,
   "id": "e4f6b73f",
   "metadata": {
    "scrolled": true
   },
   "outputs": [
    {
     "name": "stdout",
     "output_type": "stream",
     "text": [
      "Epoch 1/20\n",
      "4329/4329 [==============================] - 163s 37ms/step - loss: 0.7843 - accuracy: 0.8687 - val_loss: 0.2940 - val_accuracy: 0.9414\n",
      "Epoch 2/20\n",
      "4329/4329 [==============================] - 156s 36ms/step - loss: 0.2426 - accuracy: 0.9598 - val_loss: 0.2140 - val_accuracy: 0.9638\n",
      "Epoch 3/20\n",
      "4329/4329 [==============================] - 157s 36ms/step - loss: 0.2029 - accuracy: 0.9693 - val_loss: 0.2033 - val_accuracy: 0.9654\n",
      "Epoch 4/20\n",
      "4329/4329 [==============================] - 152s 35ms/step - loss: 0.1849 - accuracy: 0.9729 - val_loss: 0.1962 - val_accuracy: 0.9661\n",
      "Epoch 5/20\n",
      "4329/4329 [==============================] - 152s 35ms/step - loss: 0.1694 - accuracy: 0.9757 - val_loss: 0.2027 - val_accuracy: 0.9634\n",
      "Epoch 6/20\n",
      "4329/4329 [==============================] - 156s 36ms/step - loss: 0.1552 - accuracy: 0.9786 - val_loss: 0.1917 - val_accuracy: 0.9662\n",
      "Epoch 7/20\n",
      "4329/4329 [==============================] - 154s 36ms/step - loss: 0.1445 - accuracy: 0.9811 - val_loss: 0.4261 - val_accuracy: 0.9504\n",
      "Epoch 8/20\n",
      "4329/4329 [==============================] - 162s 37ms/step - loss: 0.1362 - accuracy: 0.9835 - val_loss: 0.2037 - val_accuracy: 0.9659\n",
      "Epoch 9/20\n",
      "4329/4329 [==============================] - 155s 36ms/step - loss: 0.1262 - accuracy: 0.9858 - val_loss: 0.2047 - val_accuracy: 0.9627\n"
     ]
    }
   ],
   "source": [
    "history = model.fit(\n",
    "    X_train, y_train, \n",
    "    epochs = 20, validation_data = (X_test, y_test),\n",
    "    callbacks = [keras.callbacks.EarlyStopping(patience = 3, restore_best_weights = True)]\n",
    ")"
   ]
  },
  {
   "cell_type": "code",
   "execution_count": 27,
   "id": "ba3b36bc",
   "metadata": {},
   "outputs": [
    {
     "name": "stdout",
     "output_type": "stream",
     "text": [
      "764/764 [==============================] - 8s 11ms/step - loss: 0.1917 - accuracy: 0.9662\n"
     ]
    },
    {
     "data": {
      "text/plain": [
       "[0.19169634580612183, 0.9662112593650818]"
      ]
     },
     "execution_count": 27,
     "metadata": {},
     "output_type": "execute_result"
    }
   ],
   "source": [
    "model.evaluate(X_test, y_test)"
   ]
  },
  {
   "cell_type": "code",
   "execution_count": 28,
   "id": "227c8e38",
   "metadata": {},
   "outputs": [],
   "source": [
    "model.save('text_emotion.h5')"
   ]
  },
  {
   "cell_type": "code",
   "execution_count": null,
   "id": "6b3705e6",
   "metadata": {},
   "outputs": [],
   "source": []
  }
 ],
 "metadata": {
  "kernelspec": {
   "display_name": "Python 3 (ipykernel)",
   "language": "python",
   "name": "python3"
  },
  "language_info": {
   "codemirror_mode": {
    "name": "ipython",
    "version": 3
   },
   "file_extension": ".py",
   "mimetype": "text/x-python",
   "name": "python",
   "nbconvert_exporter": "python",
   "pygments_lexer": "ipython3",
   "version": "3.9.13"
  }
 },
 "nbformat": 4,
 "nbformat_minor": 5
}
